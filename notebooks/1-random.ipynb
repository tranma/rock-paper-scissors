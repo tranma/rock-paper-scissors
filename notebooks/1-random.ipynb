{
 "cells": [
  {
   "cell_type": "markdown",
   "metadata": {},
   "source": [
    "# Rock Paper Scissors\n",
    "\n",
    "We have a game of rock-paper-scissors:\n",
    "- paper beats rock\n",
    "- scissors beat paper\n",
    "- rock beats scissors\n",
    "\n",
    "If there were two people playing this game many times, and both were making random choices at each turn, we expect each to have a 1/3 chance of winning (with 1/3 draws overall)."
   ]
  },
  {
   "cell_type": "code",
   "execution_count": 1,
   "metadata": {},
   "outputs": [
    {
     "name": "stdout",
     "output_type": "stream",
     "text": [
      "draws:       0.336\n",
      "randy1 wins: 0.344\n",
      "randy2 wins: 0.32\n"
     ]
    }
   ],
   "source": [
    "import sys\n",
    "import os\n",
    "\n",
    "%load_ext autoreload\n",
    "%autoreload 2\n",
    "\n",
    "sys.path.append(os.path.abspath(os.path.join('..')))\n",
    "\n",
    "from rps.state.game import Result\n",
    "from rps.players.weighted import Weighted\n",
    "\n",
    "randy1 = Weighted(name=\"Randy 1\")\n",
    "randy2 = Weighted(name=\"Randy 2\")\n",
    "\n",
    "num_games = 1000\n",
    "tally = [0, 0, 0]\n",
    "\n",
    "for _ in range(num_games):\n",
    "    m1 = randy1.play()\n",
    "    m2 = randy2.play()\n",
    "    w = Result.decide_winner(m1, m2)\n",
    "    tally[w] += 1\n",
    "\n",
    "print(f\"draws:       {tally[0] / num_games}\")\n",
    "print(f\"randy1 wins: {tally[1] / num_games}\")\n",
    "print(f\"randy2 wins: {tally[2] / num_games}\")"
   ]
  }
 ],
 "metadata": {
  "kernelspec": {
   "display_name": "chaos",
   "language": "python",
   "name": "python3"
  },
  "language_info": {
   "codemirror_mode": {
    "name": "ipython",
    "version": 3
   },
   "file_extension": ".py",
   "mimetype": "text/x-python",
   "name": "python",
   "nbconvert_exporter": "python",
   "pygments_lexer": "ipython3",
   "version": "3.12.2"
  }
 },
 "nbformat": 4,
 "nbformat_minor": 2
}
